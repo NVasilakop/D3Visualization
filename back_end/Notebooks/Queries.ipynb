{
 "cells": [
  {
   "cell_type": "code",
   "execution_count": 2,
   "metadata": {},
   "outputs": [],
   "source": [
    "import pandas as pd\n",
    "import numpy as np\n",
    "import json\n",
    "import datetime"
   ]
  },
  {
   "cell_type": "code",
   "execution_count": 65,
   "metadata": {},
   "outputs": [],
   "source": [
    "df = pd.read_csv('../data/owid-covid-data.csv')\n",
    "df.head()\n",
    "dfInit=df"
   ]
  },
  {
   "cell_type": "code",
   "execution_count": 54,
   "metadata": {},
   "outputs": [],
   "source": [
    "df[df['total_deaths'].notna()].head()\n",
    "df['life_expectancy'] = pd.to_numeric(df['life_expectancy'])\n",
    "df['new_tests'] = pd.to_numeric(df['new_tests'])\n",
    "df['total_tests'] = pd.to_numeric(df['total_tests'])"
   ]
  },
  {
   "cell_type": "code",
   "execution_count": 7,
   "metadata": {},
   "outputs": [
    {
     "name": "stdout",
     "output_type": "stream",
     "text": [
      "The groups By location are 195\n"
     ]
    }
   ],
   "source": [
    "location_groups = df.groupby(by=['location'])\n",
    "location_groups.apply(lambda d:d[d['total_deaths'].notna()] )\n",
    "print('The groups By location are ' + str(location_groups.ngroups))"
   ]
  },
  {
   "cell_type": "code",
   "execution_count": null,
   "metadata": {},
   "outputs": [],
   "source": [
    "##Continent By deaths\n",
    "df.groupby(by=['continent','total_deaths'])['total_deaths'].sum()"
   ]
  },
  {
   "cell_type": "code",
   "execution_count": null,
   "metadata": {},
   "outputs": [],
   "source": [
    "##Total Deaths Grouped by Continent - Location\n",
    "df['date']=pd.to_datetime(df['date'])\n",
    "\n",
    "things = df[df['date'] == df['date'].max()].groupby(by=['continent'])\n",
    "\n",
    "for thing in things.groups:\n",
    "    print(things.get_group(thing)[['total_deaths','location','date','continent']])"
   ]
  },
  {
   "cell_type": "code",
   "execution_count": null,
   "metadata": {},
   "outputs": [],
   "source": [
    "##Total Deaths by Continent\n",
    "print(things['total_deaths'].sum())"
   ]
  },
  {
   "cell_type": "code",
   "execution_count": 40,
   "metadata": {},
   "outputs": [
    {
     "ename": "NameError",
     "evalue": "name 'location_groups' is not defined",
     "output_type": "error",
     "traceback": [
      "\u001b[0;31m---------------------------------------------------------------------------\u001b[0m",
      "\u001b[0;31mNameError\u001b[0m                                 Traceback (most recent call last)",
      "\u001b[0;32m<ipython-input-40-370d1b44e186>\u001b[0m in \u001b[0;36m<module>\u001b[0;34m\u001b[0m\n\u001b[1;32m      2\u001b[0m \u001b[0mdf\u001b[0m\u001b[0;34m.\u001b[0m\u001b[0mdropna\u001b[0m\u001b[0;34m(\u001b[0m\u001b[0minplace\u001b[0m\u001b[0;34m=\u001b[0m\u001b[0;32mTrue\u001b[0m\u001b[0;34m,\u001b[0m\u001b[0msubset\u001b[0m\u001b[0;34m=\u001b[0m\u001b[0;34m[\u001b[0m\u001b[0;34m'new_deaths'\u001b[0m\u001b[0;34m]\u001b[0m\u001b[0;34m)\u001b[0m\u001b[0;34m\u001b[0m\u001b[0;34m\u001b[0m\u001b[0m\n\u001b[1;32m      3\u001b[0m \u001b[0mdf\u001b[0m\u001b[0;34m[\u001b[0m\u001b[0;34m'new_deaths'\u001b[0m\u001b[0;34m]\u001b[0m \u001b[0;34m=\u001b[0m \u001b[0mpd\u001b[0m\u001b[0;34m.\u001b[0m\u001b[0mto_numeric\u001b[0m\u001b[0;34m(\u001b[0m\u001b[0mdf\u001b[0m\u001b[0;34m[\u001b[0m\u001b[0;34m'new_deaths'\u001b[0m\u001b[0;34m]\u001b[0m\u001b[0;34m)\u001b[0m\u001b[0;34m\u001b[0m\u001b[0;34m\u001b[0m\u001b[0m\n\u001b[0;32m----> 4\u001b[0;31m \u001b[0;32mfor\u001b[0m \u001b[0mgroup\u001b[0m \u001b[0;32min\u001b[0m \u001b[0mlocation_groups\u001b[0m\u001b[0;34m.\u001b[0m\u001b[0mgroups\u001b[0m\u001b[0;34m:\u001b[0m\u001b[0;34m\u001b[0m\u001b[0;34m\u001b[0m\u001b[0m\n\u001b[0m\u001b[1;32m      5\u001b[0m     \u001b[0mprint\u001b[0m\u001b[0;34m(\u001b[0m\u001b[0mgroup\u001b[0m\u001b[0;34m)\u001b[0m\u001b[0;34m\u001b[0m\u001b[0;34m\u001b[0m\u001b[0m\n\u001b[1;32m      6\u001b[0m     \u001b[0mdf1\u001b[0m \u001b[0;34m=\u001b[0m \u001b[0mdf\u001b[0m\u001b[0;34m[\u001b[0m\u001b[0mdf\u001b[0m\u001b[0;34m[\u001b[0m\u001b[0;34m'location'\u001b[0m\u001b[0;34m]\u001b[0m \u001b[0;34m==\u001b[0m \u001b[0mgroup\u001b[0m\u001b[0;34m]\u001b[0m\u001b[0;34m.\u001b[0m\u001b[0msort_values\u001b[0m\u001b[0;34m(\u001b[0m\u001b[0;34m[\u001b[0m\u001b[0;34m'new_deaths'\u001b[0m\u001b[0;34m,\u001b[0m\u001b[0;34m'new_cases'\u001b[0m\u001b[0;34m]\u001b[0m\u001b[0;34m,\u001b[0m\u001b[0mascending\u001b[0m\u001b[0;34m=\u001b[0m\u001b[0;34m[\u001b[0m\u001b[0;32mFalse\u001b[0m\u001b[0;34m,\u001b[0m\u001b[0;32mFalse\u001b[0m\u001b[0;34m]\u001b[0m\u001b[0;34m)\u001b[0m\u001b[0;34m.\u001b[0m\u001b[0mhead\u001b[0m\u001b[0;34m(\u001b[0m\u001b[0;36m1\u001b[0m\u001b[0;34m)\u001b[0m\u001b[0;34m\u001b[0m\u001b[0;34m\u001b[0m\u001b[0m\n",
      "\u001b[0;31mNameError\u001b[0m: name 'location_groups' is not defined"
     ]
    }
   ],
   "source": [
    "##The Most explosive covid day per location\n",
    "df.dropna(inplace=True,subset=['new_deaths'])\n",
    "df['new_deaths'] = pd.to_numeric(df['new_deaths'])\n",
    "for group in location_groups.groups:\n",
    "    print(group)\n",
    "    df1 = df[df['location'] == group].sort_values(['new_deaths','new_cases'],ascending=[False,False]).head(1)\n",
    "    print(df1[['location','date','new_deaths','new_cases']])"
   ]
  },
  {
   "cell_type": "code",
   "execution_count": null,
   "metadata": {},
   "outputs": [],
   "source": [
    "##The most positive day of covid tests\n",
    "\n",
    "for group in location_groups.groups:\n",
    "    df1 = df.dropna(subset=['new_tests','total_tests','positive_rate'])\n",
    "    df1 = df[df['location'] == group].sort_values(['positive_rate'],ascending=[False]).head(1)\n",
    "    if(not df1.positive_rate.hasnans):\n",
    "        print(df1.positive_rate)"
   ]
  },
  {
   "cell_type": "code",
   "execution_count": null,
   "metadata": {},
   "outputs": [],
   "source": [
    "continent_groups = df.groupby(by=['continent'])['location']\n",
    "listOfLocations = []\n",
    "for group in continent_groups:\n",
    "    x = group[1].unique().tolist()\n",
    "    d={group[0]:x}\n",
    "    listOfLocations.append(json.dumps(d))\n",
    "print(listOfLocations)\n"
   ]
  },
  {
   "cell_type": "code",
   "execution_count": null,
   "metadata": {},
   "outputs": [],
   "source": [
    "#Filter DataFrame by Date \n",
    "dateNow = datetime.datetime.now()\n",
    "dateBefore = dateNow + datetime.timedelta(days=-20)\n",
    "df3 = df\n",
    "df3['date']=pd.to_datetime(df3['date'])\n",
    "print(dateBefore)\n",
    "df3 = df3[(df3['date'] <= dateNow) & (df3['date']>=dateBefore)]\n",
    "if df3.empty:\n",
    "    print(\"No Data\")\n",
    "else:\n",
    "    print(df3)"
   ]
  },
  {
   "cell_type": "code",
   "execution_count": null,
   "metadata": {},
   "outputs": [],
   "source": [
    "#Filter above DataFrame \n",
    "country = 'Greece'\n",
    "df3 = df3[df3['location'] == country]\n",
    "print(df3)"
   ]
  },
  {
   "cell_type": "code",
   "execution_count": 111,
   "metadata": {},
   "outputs": [
    {
     "name": "stdout",
     "output_type": "stream",
     "text": [
      "655\n"
     ]
    }
   ],
   "source": [
    "#Find the days from 1st record\n",
    "df4=dfInit\n",
    "df4['date']=pd.to_datetime(df4['date'])\n",
    "dateThen = df4[df4['date']== df['date'].min()].head(1)['date']\n",
    "item2=datetime.datetime.now() - dateThen\n",
    "item = item2.astype(int)\n",
    "seconds = item*(10**-9)\n",
    "hours=seconds/3600\n",
    "print(int(hours/24))\n"
   ]
  }
 ],
 "metadata": {
  "interpreter": {
   "hash": "6880ad2d27e98f27c6d0a7141efe41e507836fe55ce2e8e5d0a5d616e95bf5de"
  },
  "kernelspec": {
   "display_name": "Python 3.6.9 64-bit ('venv': venv)",
   "name": "python3"
  },
  "language_info": {
   "codemirror_mode": {
    "name": "ipython",
    "version": 3
   },
   "file_extension": ".py",
   "mimetype": "text/x-python",
   "name": "python",
   "nbconvert_exporter": "python",
   "pygments_lexer": "ipython3",
   "version": "3.6.9"
  },
  "orig_nbformat": 4
 },
 "nbformat": 4,
 "nbformat_minor": 2
}
